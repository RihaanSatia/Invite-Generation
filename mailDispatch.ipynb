{
 "cells": [
  {
   "cell_type": "markdown",
   "metadata": {},
   "source": [
    "Imports"
   ]
  },
  {
   "cell_type": "code",
   "execution_count": null,
   "metadata": {},
   "outputs": [],
   "source": [
    "\n",
    "import pandas as pd\n",
    "import smtplib\n",
    "from email.mime.multipart import MIMEMultipart\n",
    "from email.mime.text import MIMEText\n",
    "from email.mime.base import MIMEBase\n",
    "from email import encoders"
   ]
  },
  {
   "cell_type": "code",
   "execution_count": null,
   "metadata": {},
   "outputs": [],
   "source": [
    "df1=pd.read_excel('Last list.xlsx')"
   ]
  },
  {
   "cell_type": "code",
   "execution_count": null,
   "metadata": {},
   "outputs": [],
   "source": [
    "emailid=df1[\"Contact number:\"].tolist()"
   ]
  },
  {
   "cell_type": "code",
   "execution_count": null,
   "metadata": {},
   "outputs": [],
   "source": [
    "msg = MIMEMultipart()\n",
    "msg['Subject'] = \"Your Entry Pass for Samyukta Garba 2022!\""
   ]
  },
  {
   "cell_type": "code",
   "execution_count": null,
   "metadata": {},
   "outputs": [],
   "source": [
    "body = \"Kudos! Here is your invite pass to the auspicious Garba Night of 2022, Samyukta! See you on 28th\""
   ]
  },
  {
   "cell_type": "markdown",
   "metadata": {},
   "source": [
    "Open the file to be sent"
   ]
  },
  {
   "cell_type": "code",
   "execution_count": null,
   "metadata": {},
   "outputs": [],
   "source": [
    "for thismail in emailid:\n",
    "    fromaddr = \"samyuktagraba@gmail.com \"\n",
    "    toaddr = thismail\n",
    "    msg['From'] = fromaddr\n",
    "    msg['To'] = toaddr\n",
    "    msg.attach(MIMEText(body, 'plain'))\n",
    "    filename = f\"{thismail}.png\"\n",
    "    attachment = open(\"Path of the file\", \"rb\")\n",
    "    p = MIMEBase('application', 'octet-stream')\n",
    "    p.set_payload((attachment).read())\n",
    "    encoders.encode_base64(p)"
   ]
  },
  {
   "cell_type": "code",
   "execution_count": null,
   "metadata": {},
   "outputs": [],
   "source": [
    "p.add_header('Content-Disposition', \"attachment; filename= %s\" % filename)\n",
    "msg.attach(p)\n",
    "s = smtplib.SMTP('smtp.gmail.com', 587)\n",
    "s.starttls()\n",
    "s.login(fromaddr, \"XXXXXXPassword_of_the_senderXXXXXX\")\n",
    "text = msg.as_string()"
   ]
  },
  {
   "cell_type": "markdown",
   "metadata": {},
   "source": [
    "Sending mail"
   ]
  },
  {
   "cell_type": "code",
   "execution_count": null,
   "metadata": {},
   "outputs": [],
   "source": [
    "\n",
    "s.sendmail(fromaddr, toaddr, text)\n",
    "s.quit()"
   ]
  }
 ],
 "metadata": {
  "kernelspec": {
   "display_name": "Python 3.9.13 ('geoEnv')",
   "language": "python",
   "name": "python3"
  },
  "language_info": {
   "name": "python",
   "version": "3.9.13"
  },
  "orig_nbformat": 4,
  "vscode": {
   "interpreter": {
    "hash": "2144ee0f09a2b88941eabe0c6012f22f649d2a35200f3683f18d89bcb7b309de"
   }
  }
 },
 "nbformat": 4,
 "nbformat_minor": 2
}
