{
 "cells": [
  {
   "cell_type": "code",
   "execution_count": 1,
   "id": "10d43362",
   "metadata": {},
   "outputs": [],
   "source": [
    "import os\n",
    "from PIL import Image\n",
    "import glob\n",
    "from fpdf import FPDF\n",
    "filenames=os.listdir()"
   ]
  },
  {
   "cell_type": "code",
   "execution_count": 2,
   "id": "5ec07fef",
   "metadata": {},
   "outputs": [],
   "source": [
    "def add_corners(im, rad):\n",
    "    circle = Image.new('L', (rad * 2, rad * 2), 0)\n",
    "    draw = ImageDraw.Draw(circle)\n",
    "    draw.ellipse((0, 0, rad * 2, rad * 2), fill=255)\n",
    "    alpha = Image.new('L', im.size, 255)\n",
    "    w, h = im.size\n",
    "    alpha.paste(circle.crop((0, 0, rad, rad)), (0, 0))\n",
    "    alpha.paste(circle.crop((0, rad, rad, rad * 2)), (0, h - rad))\n",
    "    alpha.paste(circle.crop((rad, 0, rad * 2, rad)), (w - rad, 0))\n",
    "    alpha.paste(circle.crop((rad, rad, rad * 2, rad * 2)), (w - rad, h - rad))\n",
    "    im.putalpha(alpha)\n",
    "    return im\n"
   ]
  },
  {
   "cell_type": "code",
   "execution_count": 3,
   "id": "d3f642b4",
   "metadata": {},
   "outputs": [],
   "source": [
    "bg = Image.open(r\"imagename.png\").convert(\"RGBA\")\n"
   ]
  },
  {
   "cell_type": "code",
   "execution_count": 4,
   "id": "3b1c850b",
   "metadata": {},
   "outputs": [
    {
     "name": "stdout",
     "output_type": "stream",
     "text": [
      "2.png\n",
      "Aasthanakoom9601504725.png\n",
      "DevanshiParmar9909345459.png\n",
      "Jainikaanshul7572835367.png\n",
      "JayantAnshul9574693678.png\n",
      "RitikaAnshul9909951472.png\n",
      "VismayUpadhyay9909975430.png\n"
     ]
    }
   ],
   "source": [
    "\n",
    "right = 20\n",
    "left = 20\n",
    "top = 20\n",
    "bottom = 20\n",
    "a=0\n",
    "for name in filenames:\n",
    "    \n",
    "    if a<1:\n",
    "        if not(name.endswith('unnamed.png') or name.endswith('.pdf')or name.endswith('.ipynb') or name.endswith('.ipynb_checkpoints') or name.endswith('.xlsx') ):\n",
    "            print(name)\n",
    "            bgImg=bg\n",
    "            QRimg = Image.open(name).convert(\"RGBA\")\n",
    "            QRimg = QRimg.resize((330, 330), Image.ANTIALIAS)\n",
    "            #QRimg.show()\n",
    "            #img2 = add_corners(img2, 30)\n",
    "            #img2.show()\n",
    "            bgImg.paste(QRimg, (387,1300))\n",
    "            width, height =bgImg.size\n",
    "            new_width = width + right + left\n",
    "            new_height = height + top + bottom\n",
    "\n",
    "            result = Image.new(bgImg.mode, (new_width, new_height), (255, 255, 255))\n",
    "\n",
    "            result.paste(bgImg, (left, top))\n",
    "            result = result.convert('RGB')\n",
    "            #result.show()\n",
    "            TNC=Image.open('2.png').convert(\"RGBA\")\n",
    "            width, height =TNC.size\n",
    "            new_width = width + right + left\n",
    "            new_height = height + top + bottom\n",
    "\n",
    "            X = Image.new(TNC.mode, (new_width, new_height), (255, 255, 255))\n",
    "            X.paste(TNC, (left, top))\n",
    "            TNC = X.convert('RGB')\n",
    "            imagelist=[TNC]\n",
    "            result.save(name.split('.')[0]+'.pdf',save_all=True,append_images=imagelist)            "
   ]
  },
  {
   "cell_type": "code",
   "execution_count": 131,
   "id": "6053d39e",
   "metadata": {},
   "outputs": [],
   "source": [
    "\n",
    "\n",
    "# Displaying the image\n",
    "#img1.show()\n",
    "\n"
   ]
  },
  {
   "cell_type": "code",
   "execution_count": null,
   "id": "65bbd4cb",
   "metadata": {},
   "outputs": [],
   "source": [
    "from PyPDF2 import PdfMerger\n",
    "filenames=os.listdir()\n",
    "n=0\n",
    "print('a')\n",
    "for name in filenames:\n",
    "    print(name)\n",
    "    if n<7:\n",
    "        if name.endswith('.pdf'):\n",
    "            print(name)\n",
    "            pdfs = ['Mediclaim.pdf',name]\n",
    "            print(pdfs)\n",
    "            merger = PdfMerger()\n",
    "            for pdf in pdfs:\n",
    "                merger.append(pdf)\n",
    "                merger.write(eval('C:/Users/esatrih/Invite Creation/final/')+name)\n",
    "            merger.close()\n",
    "            n=n+1\n",
    "\n",
    "pdf = FPDF()"
   ]
  }
 ],
 "metadata": {
  "kernelspec": {
   "display_name": "Python 3 (ipykernel)",
   "language": "python",
   "name": "python3"
  },
  "language_info": {
   "codemirror_mode": {
    "name": "ipython",
    "version": 3
   },
   "file_extension": ".py",
   "mimetype": "text/x-python",
   "name": "python",
   "nbconvert_exporter": "python",
   "pygments_lexer": "ipython3",
   "version": "3.9.12"
  }
 },
 "nbformat": 4,
 "nbformat_minor": 5
}
