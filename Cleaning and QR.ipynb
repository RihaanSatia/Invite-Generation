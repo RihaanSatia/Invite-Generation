{
 "cells": [
  {
   "cell_type": "code",
   "execution_count": 1,
   "id": "8630c4fe",
   "metadata": {},
   "outputs": [],
   "source": [
    "import pandas as pd\n",
    "import xlrd as d\n",
    "import pyqrcode\n",
    "import png\n",
    "import qrcode\n",
    "from pyqrcode import QRCode\n"
   ]
  },
  {
   "cell_type": "code",
   "execution_count": null,
   "id": "6f589050",
   "metadata": {},
   "outputs": [],
   "source": [
    "#List of contacts\n",
    "df1=pd.read_excel('Last list.xlsx')\n",
    "df1['Contact number:']=df1['Contact number:'].astype(str)"
   ]
  },
  {
   "cell_type": "code",
   "execution_count": 2,
   "id": "c5ff0fb5",
   "metadata": {},
   "outputs": [],
   "source": [
    "\n",
    "\n",
    "def generate(fullname,phno):\n",
    "    df=df1\n",
    "    print(df[phno])\n",
    "    df[fullname]= df[fullname].astype(str).str.strip()\n",
    "    new = df[fullname].str.split(\" \", n = 1, expand = True)\n",
    "    df['First Name'] = new[0]\n",
    "    df['Last Name'] = new[1]\n",
    "    link='Enter pre-filled link for google form here. Change viewform to form response'\n",
    "    df['Link For Attendance'] = link+df['First Name'] + '+' + df['Last Name']\n",
    "    #QRstring='=image(\"https://chart.googleapis.com/chart?cht=qr&chs=150x150&chl=\"'\n",
    "    #df['QR']=QRstring+df['Link For Attendance']+')'\n",
    "    df=df[['First Name','Last Name','Link For Attendance','Contact number:']]\n",
    "    return df"
   ]
  },
  {
   "cell_type": "code",
   "execution_count": 3,
   "id": "423a9bc9",
   "metadata": {},
   "outputs": [
    {
     "name": "stdout",
     "output_type": "stream",
     "text": [
      "0    9909345459\n",
      "1    9601504725\n",
      "2    9909951472\n",
      "3    9574693678\n",
      "4    7572835367\n",
      "5    9909975430\n",
      "Name: Contact number:, dtype: object\n"
     ]
    }
   ],
   "source": [
    "fin1=generate('Full Name:','Contact number:')\n",
    "\n",
    "## For multiple entries in a single form ##\n",
    "fin2=generate('Full Name ( 2nd Person ):','Contact number ( 2nd Person ) :')\n",
    "fin3=generate('Full Name ( 3rd Person ):','Contact number ( 3rd Person ) :')\n",
    "fin4=generate('Full Name ( 4th Person ):','Contact number ( 4th Person ) :')\n",
    "fin5=generate('Full Name ( 5th Person ):','Contact number ( 5th Person ) :')"
   ]
  },
  {
   "cell_type": "code",
   "execution_count": 4,
   "id": "a02b75f5",
   "metadata": {},
   "outputs": [],
   "source": [
    "finaldf=pd.concat([fin1,fin2,fin3,fin4,fin5],ignore_index=True)\n",
    "finaldf=fin1"
   ]
  },
  {
   "cell_type": "code",
   "execution_count": 7,
   "id": "a7ce9568",
   "metadata": {},
   "outputs": [
    {
     "name": "stdout",
     "output_type": "stream",
     "text": [
      "Index(['First Name', 'Last Name', 'Link For Attendance', 'Contact number:'], dtype='object')\n",
      "https://docs.google.com/forms/d/e/1FAIpQLSeURjhdMDSOzzFlPivDTBR5eB53ZMvBFjJYdGdrlIkKrPFXOg/formResponse?entry.367015098=Devanshi+Parmar 9909345459\n",
      "DevanshiParmar9909345459.png\n",
      "https://docs.google.com/forms/d/e/1FAIpQLSeURjhdMDSOzzFlPivDTBR5eB53ZMvBFjJYdGdrlIkKrPFXOg/formResponse?entry.367015098=Aastha+nakoom 9601504725\n",
      "Aasthanakoom9601504725.png\n",
      "https://docs.google.com/forms/d/e/1FAIpQLSeURjhdMDSOzzFlPivDTBR5eB53ZMvBFjJYdGdrlIkKrPFXOg/formResponse?entry.367015098=Ritika+Anshul 9909951472\n",
      "RitikaAnshul9909951472.png\n",
      "https://docs.google.com/forms/d/e/1FAIpQLSeURjhdMDSOzzFlPivDTBR5eB53ZMvBFjJYdGdrlIkKrPFXOg/formResponse?entry.367015098=Jayant+Anshul 9574693678\n",
      "JayantAnshul9574693678.png\n",
      "https://docs.google.com/forms/d/e/1FAIpQLSeURjhdMDSOzzFlPivDTBR5eB53ZMvBFjJYdGdrlIkKrPFXOg/formResponse?entry.367015098=Jainika+anshul 7572835367\n",
      "Jainikaanshul7572835367.png\n",
      "https://docs.google.com/forms/d/e/1FAIpQLSeURjhdMDSOzzFlPivDTBR5eB53ZMvBFjJYdGdrlIkKrPFXOg/formResponse?entry.367015098=Vismay+Upadhyay 9909975430\n",
      "VismayUpadhyay9909975430.png\n"
     ]
    }
   ],
   "source": [
    "print(finaldf.columns)\n",
    "\n",
    "list1=finaldf.set_index(\"Link For Attendance\")[\"Contact number:\"].to_dict()\n",
    "\n",
    "for key,value in list1.items():\n",
    "\n",
    "        print(key,value)\n",
    "        #img=qrcode.make(key)\n",
    "        ## Generate QR ##\n",
    "        qr = qrcode.QRCode(version=1,error_correction=qrcode.constants.ERROR_CORRECT_L,box_size=20,border=2)\n",
    "        qr.add_data(key)\n",
    "        qr.make(fit=True)\n",
    "        ## Color of QR ##\n",
    "        img = qr.make_image(fill_color=(205,57,106), back_color=\"white\")\n",
    "        name=key.split(\"=\")[-1].replace(\"+\",\"\")+value+'.png'\n",
    "        print(name)\n",
    "\n",
    "        ## Save unique QR According to name and mobile number ##\n",
    "        img.save(name)\n"
   ]
  },
  {
   "cell_type": "code",
   "execution_count": null,
   "id": "4ba87965",
   "metadata": {},
   "outputs": [],
   "source": []
  }
 ],
 "metadata": {
  "kernelspec": {
   "display_name": "Python 3 (ipykernel)",
   "language": "python",
   "name": "python3"
  },
  "language_info": {
   "codemirror_mode": {
    "name": "ipython",
    "version": 3
   },
   "file_extension": ".py",
   "mimetype": "text/x-python",
   "name": "python",
   "nbconvert_exporter": "python",
   "pygments_lexer": "ipython3",
   "version": "3.9.12"
  }
 },
 "nbformat": 4,
 "nbformat_minor": 5
}
